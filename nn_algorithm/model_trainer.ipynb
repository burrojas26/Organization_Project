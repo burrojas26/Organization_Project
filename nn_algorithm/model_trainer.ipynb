{
 "cells": [
  {
   "cell_type": "markdown",
   "id": "8e9d62a2",
   "metadata": {},
   "source": [
    "# This file trains a CNN model to recognize the hardware we use in our robotics team\n",
    "- Step 1 is to train a prebuilt model\n",
    "- Step 2 is to build my own CNN model once I have access to more data"
   ]
  },
  {
   "cell_type": "code",
   "execution_count": 11,
   "id": "4a173504",
   "metadata": {},
   "outputs": [],
   "source": [
    "import torch\n",
    "import torch.nn as nn\n",
    "from torchvision import models, transforms\n",
    "from PIL import Image\n",
    "import os\n",
    "from sklearn.model_selection import train_test_split"
   ]
  },
  {
   "cell_type": "code",
   "execution_count": 52,
   "id": "77f09cde",
   "metadata": {},
   "outputs": [],
   "source": [
    "path = '/Users/jasper/Desktop/CS/Organization_Project/data/dataset'\n",
    "images = []\n",
    "for folder in os.listdir(path):\n",
    "    for image in os.listdir(os.path.join(path, folder)):\n",
    "        img = Image.open(os.path.join(path, folder, image))\n",
    "        img = img.convert('RGB')\n",
    "        img = img.resize((224, 224))\n",
    "        images.append((img, image.split(\"_\")[0]))       "
   ]
  },
  {
   "cell_type": "code",
   "execution_count": 67,
   "id": "2f64cb1f",
   "metadata": {},
   "outputs": [],
   "source": [
    "# Map labels to indices\n",
    "label_set = sorted(set(label for _, label in images))\n",
    "label_to_idx = {label: idx for idx, label in enumerate(label_set)}"
   ]
  },
  {
   "cell_type": "code",
   "execution_count": 69,
   "id": "026f4eb2",
   "metadata": {},
   "outputs": [
    {
     "data": {
      "text/plain": [
       "torch.Size([3, 224, 224])"
      ]
     },
     "execution_count": 69,
     "metadata": {},
     "output_type": "execute_result"
    }
   ],
   "source": [
    "# Data transformation\n",
    "transform = transforms.Compose([\n",
    "    transforms.ToTensor(),\n",
    "    transforms.Normalize(mean=[0.485, 0.456, 0.406], std=[0.229, 0.224, 0.225])\n",
    "])\n",
    "transformed_images = [(transform(img), label_to_idx[label]) for img, label in images]\n",
    "train_data, test_data = train_test_split(transformed_images, test_size=0.2, random_state=42)\n",
    "train_data[1][0].shape"
   ]
  },
  {
   "cell_type": "code",
   "execution_count": 70,
   "id": "6a625510",
   "metadata": {},
   "outputs": [
    {
     "name": "stderr",
     "output_type": "stream",
     "text": [
      "/opt/anaconda3/lib/python3.12/site-packages/torchvision/models/_utils.py:208: UserWarning: The parameter 'pretrained' is deprecated since 0.13 and may be removed in the future, please use 'weights' instead.\n",
      "  warnings.warn(\n",
      "/opt/anaconda3/lib/python3.12/site-packages/torchvision/models/_utils.py:223: UserWarning: Arguments other than a weight enum or `None` for 'weights' are deprecated since 0.13 and may be removed in the future. The current behavior is equivalent to passing `weights=MobileNet_V2_Weights.IMAGENET1K_V1`. You can also use `weights=MobileNet_V2_Weights.DEFAULT` to get the most up-to-date weights.\n",
      "  warnings.warn(msg)\n"
     ]
    }
   ],
   "source": [
    "# Load the pre built model\n",
    "model = models.mobilenet_v2(pretrained=True)"
   ]
  },
  {
   "cell_type": "code",
   "execution_count": 71,
   "id": "2993bd61",
   "metadata": {},
   "outputs": [],
   "source": [
    "num_classes = len(set([img[1] for img in images]))  # Unique class count\n",
    "\n",
    "# Replace final classifier layer\n",
    "model.classifier[1] = nn.Linear(model.last_channel, num_classes)"
   ]
  },
  {
   "cell_type": "code",
   "execution_count": 72,
   "id": "4c264e72",
   "metadata": {},
   "outputs": [],
   "source": [
    "def eval_model(model, x, y):\n",
    "    with torch.no_grad():\n",
    "        y_pred = model(x)\n",
    "        correctness = (y_pred.argmax(dim=1) == y)\n",
    "        return correctness"
   ]
  },
  {
   "cell_type": "code",
   "execution_count": 79,
   "id": "b8e05ce0",
   "metadata": {},
   "outputs": [],
   "source": [
    "def train(model: nn.Module, train_data: list, test_data: list, epochs: int = 10, lr=0.01):\n",
    "    optimizer = torch.optim.Adam(model.parameters(), lr=lr)\n",
    "    loss_fn = nn.CrossEntropyLoss()\n",
    "    losses = []\n",
    "    \n",
    "    for epoch in range(epochs):\n",
    "        # Unpack images and labels\n",
    "        x_list, y_list = zip(*train_data)\n",
    "        \n",
    "        # Convert to tensors\n",
    "        y = torch.tensor(list(y_list)).to(\"cpu\")\n",
    "        x = torch.stack(x_list).to(\"cpu\")\n",
    "        \n",
    "        # Forward pass\n",
    "        y_pred = model(x)\n",
    "        loss = loss_fn(y_pred, y)\n",
    "        \n",
    "        print(f\"Epoch {epoch+1}/{epochs}, Loss: {loss.item()}\")\n",
    "        \n",
    "        optimizer.zero_grad()\n",
    "        loss.backward()\n",
    "        optimizer.step()\n",
    "        \n",
    "        losses.append(loss.item())\n",
    "        \n",
    "        # Format test data\n",
    "        x_test, y_test = zip(*test_data)\n",
    "        x_test_tensor = torch.stack(x_test).to(\"cpu\")\n",
    "        y_test_tensor = torch.tensor(list(y_test)).to(\"cpu\")\n",
    "        \n",
    "        # Evalute model on test set\n",
    "        correct = torch.sum(eval_model(model, x_test_tensor, y_test_tensor))\n",
    "        total = len(x_test_tensor)\n",
    "        print(f\"Epoch {epoch+1}: Accuracy on test set: {correct}/{total} ({(correct / total) * 100:.2f}%)\")\n",
    "    \n",
    "    return losses"
   ]
  },
  {
   "cell_type": "code",
   "execution_count": 80,
   "id": "1cf734e0",
   "metadata": {},
   "outputs": [
    {
     "name": "stdout",
     "output_type": "stream",
     "text": [
      "Epoch 1/10, Loss: 1.459956169128418\n",
      "Epoch 1: Accuracy on test set: 10/11 (90.91%)\n",
      "Epoch 2/10, Loss: 0.15547014772891998\n",
      "Epoch 2: Accuracy on test set: 11/11 (100.00%)\n",
      "Epoch 3/10, Loss: 0.018356673419475555\n",
      "Epoch 3: Accuracy on test set: 10/11 (90.91%)\n",
      "Epoch 4/10, Loss: 0.0048233745619654655\n",
      "Epoch 4: Accuracy on test set: 10/11 (90.91%)\n",
      "Epoch 5/10, Loss: 0.0017234219703823328\n",
      "Epoch 5: Accuracy on test set: 10/11 (90.91%)\n",
      "Epoch 6/10, Loss: 0.000674583250656724\n",
      "Epoch 6: Accuracy on test set: 10/11 (90.91%)\n",
      "Epoch 7/10, Loss: 0.00039383754483424127\n",
      "Epoch 7: Accuracy on test set: 10/11 (90.91%)\n",
      "Epoch 8/10, Loss: 0.00022860776516608894\n",
      "Epoch 8: Accuracy on test set: 10/11 (90.91%)\n",
      "Epoch 9/10, Loss: 0.0001571553002577275\n",
      "Epoch 9: Accuracy on test set: 10/11 (90.91%)\n",
      "Epoch 10/10, Loss: 0.00011217691644560546\n",
      "Epoch 10: Accuracy on test set: 10/11 (90.91%)\n"
     ]
    },
    {
     "data": {
      "image/png": "[encoded data removed]",
      "text/plain": [
       "<Figure size 640x480 with 1 Axes>"
      ]
     },
     "metadata": {},
     "output_type": "display_data"
    }
   ],
   "source": [
    "my_model = model.to(\"cpu\")\n",
    "loss = train(my_model, train_data, test_data, epochs=10, lr=0.001)\n",
    "# Save the model\n",
    "torch.save(my_model.state_dict(), 'model.pth')\n",
    "# Graph the loss\n",
    "import matplotlib.pyplot as plt\n",
    "plt.plot(loss)\n",
    "plt.xlabel('Epochs')\n",
    "plt.ylabel('Loss')\n",
    "plt.title('Training Loss')\n",
    "plt.show()"
   ]
  }
 ],
 "metadata": {
  "kernelspec": {
   "display_name": "base",
   "language": "python",
   "name": "python3"
  },
  "language_info": {
   "codemirror_mode": {
    "name": "ipython",
    "version": 3
   },
   "file_extension": ".py",
   "mimetype": "text/x-python",
   "name": "python",
   "nbconvert_exporter": "python",
   "pygments_lexer": "ipython3",
   "version": "3.12.7"
  }
 },
 "nbformat": 4,
 "nbformat_minor": 5
}
